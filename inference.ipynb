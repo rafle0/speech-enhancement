{
 "cells": [
  {
   "cell_type": "code",
   "execution_count": 1,
   "id": "de02ab50-4d7d-4d9c-85df-f040cf0a9ede",
   "metadata": {},
   "outputs": [],
   "source": [
    "import os\n",
    "import time\n",
    "import numpy as np\n",
    "import torch\n",
    "from smallmodel import *\n",
    "from scipy.io import wavfile as sf"
   ]
  },
  {
   "cell_type": "code",
   "execution_count": 2,
   "id": "ea1e161f-d9b1-4686-84c6-901f671953b6",
   "metadata": {},
   "outputs": [
    {
     "data": {
      "text/plain": [
       "<All keys matched successfully>"
      ]
     },
     "execution_count": 2,
     "metadata": {},
     "output_type": "execute_result"
    }
   ],
   "source": [
    "model = DCCRN(rnn_hidden=128, win_len=512, hop_len=128, use_clstm=False, masking_mode='R', kernel_num=(16,16,32,32,64,64), win_type='hann')\n",
    "model.load_state_dict(torch.load('./DCCRN-5h.pth', map_location=torch.device('cpu')))"
   ]
  },
  {
   "cell_type": "code",
   "execution_count": 3,
   "id": "a3cb688d-f2fb-4694-8608-5fdc20063db8",
   "metadata": {},
   "outputs": [],
   "source": [
    "def get_tensor(file_name):\n",
    "    x = sf.read(file_name)[1]\n",
    "    x = x / 32768.0\n",
    "    x = torch.Tensor(x).unsqueeze(axis=0)\n",
    "    return x\n",
    "\n",
    "def get_wave(tensor, file_name):\n",
    "    file_name = '.'+''.join(file_name.split('.')[:-1]) + '_processed.' + file_name.split('.')[-1]\n",
    "    x = tensor.squeeze(axis=0).detach().numpy()\n",
    "    x = x * 32768.0\n",
    "    x = sf.write(file_name, 16000, x.astype(np.int16))"
   ]
  },
  {
   "cell_type": "code",
   "execution_count": 4,
   "id": "e78fb362-e52a-43fa-a2e3-1c4d7cd5acbd",
   "metadata": {},
   "outputs": [
    {
     "name": "stdout",
     "output_type": "stream",
     "text": [
      "4\n",
      "['./test/clap_mic.wav', './test/keyboard_mic.wav', './test/classic_mic.wav', './test/pop_mic.wav']\n"
     ]
    }
   ],
   "source": [
    "test_path = './test/'\n",
    "test_data = [test_path + wav for wav in os.listdir(test_path) if 'wav' in wav]\n",
    "print(len(test_data))\n",
    "print(test_data)"
   ]
  },
  {
   "cell_type": "code",
   "execution_count": 5,
   "id": "aeab74c0-1fca-4dde-9b63-f54393a5ea93",
   "metadata": {},
   "outputs": [
    {
     "name": "stderr",
     "output_type": "stream",
     "text": [
      "/tmp/ipykernel_409/3829196786.py:2: WavFileWarning: Chunk (non-data) not understood, skipping it.\n",
      "  x = sf.read(file_name)[1]\n"
     ]
    }
   ],
   "source": [
    "for sample in test_data:\n",
    "    x = get_tensor(sample)\n",
    "    y = model(x)\n",
    "    get_wave(y, sample)"
   ]
  },
  {
   "cell_type": "code",
   "execution_count": null,
   "id": "e4320989-32f5-4ca9-a7e4-1303517d2957",
   "metadata": {},
   "outputs": [],
   "source": []
  }
 ],
 "metadata": {
  "kernelspec": {
   "display_name": "d2l:Python",
   "language": "python",
   "name": "conda-env-d2l-py"
  },
  "language_info": {
   "codemirror_mode": {
    "name": "ipython",
    "version": 3
   },
   "file_extension": ".py",
   "mimetype": "text/x-python",
   "name": "python",
   "nbconvert_exporter": "python",
   "pygments_lexer": "ipython3",
   "version": "3.9.9"
  }
 },
 "nbformat": 4,
 "nbformat_minor": 5
}
